{
 "cells": [
  {
   "cell_type": "code",
   "execution_count": 1,
   "metadata": {},
   "outputs": [
    {
     "name": "stdout",
     "output_type": "stream",
     "text": [
      "True\n",
      "4\n"
     ]
    }
   ],
   "source": [
    "import cartopy.crs as crs\n",
    "from cartopy.feature import NaturalEarthFeature\n",
    "from wrf import getvar, ALL_TIMES\n",
    "from matplotlib.cm import get_cmap\n",
    "\n",
    "from netCDF4 import Dataset\n",
    "import glob\n",
    "import matplotlib.pyplot as plt\n",
    "from wrf import omp_enabled\n",
    "\n",
    "print(omp_enabled())\n",
    "from wrf import omp_set_num_threads, omp_get_max_threads, to_np, getvar, smooth2d, get_cartopy, cartopy_xlim, cartopy_ylim, latlon_coords\n",
    "\n",
    "omp_set_num_threads(4)\n",
    "\n",
    "print (omp_get_max_threads())\n",
    "\n",
    "\n",
    "PATH=\"/Users/pick/AggloObersee/mount/\""
   ]
  },
  {
   "cell_type": "code",
   "execution_count": 2,
   "metadata": {},
   "outputs": [],
   "source": [
    "files = glob.glob(PATH+\"wrfout*\")"
   ]
  },
  {
   "cell_type": "code",
   "execution_count": 3,
   "metadata": {},
   "outputs": [],
   "source": [
    "wrflist = [Dataset(a) for a in files]"
   ]
  },
  {
   "cell_type": "code",
   "execution_count": 4,
   "metadata": {},
   "outputs": [],
   "source": [
    "t_cat = getvar(wrflist, \"T2\", timeidx=ALL_TIMES, method=\"cat\")\n",
    "ws_cat= getvar(wrflist, \"uvmet10_wspd\", timeidx=ALL_TIMES, method=\"cat\")"
   ]
  },
  {
   "cell_type": "code",
   "execution_count": null,
   "metadata": {},
   "outputs": [],
   "source": [
    "lats, lons = latlon_coords(t_cat[0])\n",
    "t_cat[0].Time.values"
   ]
  },
  {
   "cell_type": "code",
   "execution_count": null,
   "metadata": {},
   "outputs": [],
   "source": [
    "for item in t_cat:\n",
    "    cart_proj = get_cartopy(item)\n",
    "    fig = plt.figure(figsize=(12,6))\n",
    "    ax = plt.axes(projection=cart_proj)\n",
    "    states = NaturalEarthFeature(category=\"cultural\", scale=\"50m\",\n",
    "                                 facecolor=\"none\",\n",
    "                                 name=\"admin_1_states_provinces_shp\")\n",
    "    ax.add_feature(states, linewidth=.5, edgecolor=\"black\")\n",
    "    ax.coastlines('50m', linewidth=0.8)\n",
    "    ax.gridlines(color=\"black\", linestyle=\"dotted\")\n",
    "    #plt.contour(to_np(lons), to_np(lats), to_np(t_cat[0][0]), 10, colors=\"black\",\n",
    "    #            transform=crs.PlateCarree())\n",
    "    plt.contourf(to_np(lons), to_np(lats), to_np(item-273.15), 10,\n",
    "                transform=crs.PlateCarree(),\n",
    "                cmap=get_cmap(\"jet\"))\n",
    "    plt.colorbar()\n",
    "    plt.title(t_cat[0].Time.values)\n"
   ]
  },
  {
   "cell_type": "code",
   "execution_count": null,
   "metadata": {},
   "outputs": [],
   "source": []
  }
 ],
 "metadata": {
  "kernelspec": {
   "display_name": "Python 3",
   "language": "python",
   "name": "python3"
  },
  "language_info": {
   "codemirror_mode": {
    "name": "ipython",
    "version": 3
   },
   "file_extension": ".py",
   "mimetype": "text/x-python",
   "name": "python",
   "nbconvert_exporter": "python",
   "pygments_lexer": "ipython3",
   "version": "3.7.3"
  }
 },
 "nbformat": 4,
 "nbformat_minor": 2
}
